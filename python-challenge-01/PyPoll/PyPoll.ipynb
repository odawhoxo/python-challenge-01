{
 "cells": [
  {
   "cell_type": "markdown",
   "id": "0a296abb",
   "metadata": {},
   "source": [
    "# PyPoll"
   ]
  },
  {
   "cell_type": "code",
   "execution_count": 10,
   "id": "7bd7dda7",
   "metadata": {},
   "outputs": [
    {
     "name": "stdout",
     "output_type": "stream",
     "text": [
      "Election Results\n",
      "----------------------------\n",
      "Total Votes 369711\n",
      "----------------------------\n",
      "Raymon Anthony Doane:\n",
      "\n",
      "Raymon Anthony Doane : 3.139% (11606)\n",
      ")\n",
      "------------------------------\n",
      "Winner: Raymon Anthony Doane\n",
      "---------------------------\n",
      "\n"
     ]
    }
   ],
   "source": [
    "import os\n",
    "import csv\n",
    "\n",
    "csv_path = os.path.join(\".\",\"Resources\",\"election_data.csv\")\n",
    "output_file = os.path.join(\".\",\"election_analysis.txt\")\n",
    "\n",
    "total_votes = 0\n",
    "\n",
    "candidate_votes = {}\n",
    "candidate_options = []\n",
    "\n",
    "candidate_winner = \"\" \n",
    "count_of_wins = 0\n",
    "\n",
    "\n",
    "with open(csv_path) as election_data:\n",
    "    read = csv.reader(election_data)\n",
    "    \n",
    "    header = next(read)    \n",
    "    #print(header)\n",
    "    \n",
    "    for row in read:\n",
    "        total_votes = total_votes + 1\n",
    "        #print(row)\n",
    "        candidate_name = row[2]\n",
    "        \n",
    "        if candidate_name not in candidate_options:\n",
    "            candidate_options.append(candidate_name)\n",
    "            #print(candidate_name)\n",
    "            candidate_votes[candidate_name] = 0\n",
    "        candidate_votes[candidate_name] = candidate_votes[candidate_name] + 1\n",
    "\n",
    "#print(candidate_votes)\n",
    "#print(candidate_options)            \n",
    "\n",
    "\n",
    "with open(output_file, \"w\") as txt_file: \n",
    "    election_results = (\n",
    "    f\"Election Results\\n\"\n",
    "    f\"----------------------------\\n\"\n",
    "    f\"Total Votes {total_votes}\\n\"\n",
    "    f\"----------------------------\\n\"\n",
    "    f\"{candidate_name}:\\n\"\n",
    "    \n",
    "        \n",
    "    )\n",
    "    print(election_results)\n",
    "    \n",
    "    txt_file.write(election_results)\n",
    "    \n",
    "    for candidate in candidate_votes:\n",
    "        votes = candidate_votes[candidate]\n",
    "        votes_percent = float(votes) / float(total_votes) *100\n",
    "         \n",
    "    if (votes > count_of_wins):\n",
    "        count_of_wins = votes\n",
    "        candidate_winner = candidate\n",
    "        \n",
    "        voter_output = f\"{candidate} : {votes_percent:.3f}% ({votes})\\n)\"\n",
    "        #print(votes)\n",
    "        #print(votes_percent)\n",
    "        print(voter_output)\n",
    "        txt_file.write(voter_output)\n",
    "        \n",
    "    winner_output = (\n",
    "    f\"------------------------------\\n\"\n",
    "    f\"Winner: {candidate_winner}\\n\"\n",
    "    f\"---------------------------\\n\"\n",
    "    )\n",
    "print(winner_output)\n",
    "\n",
    "#Election Results\n",
    "# -------------------------\n",
    "# Total Votes: 369711\n",
    "# -------------------------\n",
    "# Charles Casper Stockham: 23.049% (85213)\n",
    "# Diana DeGette: 73.812% (272892)\n",
    "# Raymon Anthony Doane: 3.139% (11606)\n",
    "# -------------------------\n",
    "# Winner: Diana DeGette\n",
    "# -------------------------"
   ]
  },
  {
   "cell_type": "code",
   "execution_count": null,
   "id": "48d68767",
   "metadata": {},
   "outputs": [],
   "source": []
  },
  {
   "cell_type": "code",
   "execution_count": null,
   "id": "fc44f0ac",
   "metadata": {},
   "outputs": [],
   "source": []
  }
 ],
 "metadata": {
  "kernelspec": {
   "display_name": "Python 3 (ipykernel)",
   "language": "python",
   "name": "python3"
  },
  "language_info": {
   "codemirror_mode": {
    "name": "ipython",
    "version": 3
   },
   "file_extension": ".py",
   "mimetype": "text/x-python",
   "name": "python",
   "nbconvert_exporter": "python",
   "pygments_lexer": "ipython3",
   "version": "3.11.4"
  }
 },
 "nbformat": 4,
 "nbformat_minor": 5
}
