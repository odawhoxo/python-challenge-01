{
 "cells": [
  {
   "cell_type": "markdown",
   "id": "c532973d",
   "metadata": {},
   "source": [
    "# PyBank \n"
   ]
  },
  {
   "cell_type": "code",
   "execution_count": 108,
   "id": "1864886b",
   "metadata": {},
   "outputs": [
    {
     "name": "stdout",
     "output_type": "stream",
     "text": [
      "Financial Analysis\n",
      "-------------------------------------------\n",
      "Total Months: 86\n",
      "Total: $22564198\n",
      "Average Change: $-8311.11\n",
      "Greatest Increase in Profits: Aug-16 ($1862002)\n",
      "Greatest Decrease in Profits: Feb-14 ($-1825558)\n"
     ]
    }
   ],
   "source": [
    "import os\n",
    "import csv\n",
    "\n",
    "csv_path = os.path.join(\".\", \"Resources\", \"budget_data.csv\")\n",
    "#csv_path\n",
    "csv_output_path = os.path.join(\".\",\"budget_analysis.txt\")\n",
    "#csv_output_path\n",
    "\n",
    "total_months = 0\n",
    "total_net = 0\n",
    "previous_net = 0\n",
    "profit_loss_changes = []\n",
    "\n",
    "greatest_increase_date = \"\"\n",
    "greatest_increase_amount = 0\n",
    "greatest_decrease_date = \"\"\n",
    "greatest_decrease_amount = 0\n",
    "\n",
    "with open(csv_path) as budget_data:\n",
    "    csv_reader = csv.reader(budget_data)\n",
    "#    print(csv_reader)\n",
    "    csv_header = next(csv_reader)    \n",
    "#   print(csv_header)\n",
    "    \n",
    "    for row in csv_reader:\n",
    "        total_months = total_months + 1\n",
    "        total_net = int(row[1]) + total_net\n",
    "#       print(row)\n",
    "        profit_loss_change = int(row[1]) - previous_net\n",
    "        profit_loss_changes.append(profit_loss_change)\n",
    "        previous_net = int(row[1])\n",
    "        if profit_loss_change > greatest_increase_amount:\n",
    "            greatest_increase_amount = profit_loss_change\n",
    "            greatest_increase_date = row[0]\n",
    "        elif profit_loss_change < greatest_decrease_amount:\n",
    "            greatest_decrease_amount = profit_loss_change\n",
    "            greatest_decrease_date = row[0]\n",
    "profit_loss_changes.pop(0)\n",
    "average_change = sum(profit_loss_changes) / len(profit_loss_changes)\n",
    "\n",
    "print(\"Financial Analysis\")\n",
    "print(\"-------------------------------------------\")\n",
    "print(f\"Total Months: {total_months}\")\n",
    "print(f\"Total: ${total_net}\")\n",
    "print(f\"Average Change: ${average_change:.2f}\")\n",
    "print(f\"Greatest Increase in Profits: {greatest_increase_date} (${greatest_increase_amount})\")\n",
    "print(f\"Greatest Decrease in Profits: {greatest_decrease_date} (${greatest_decrease_amount})\")\n",
    "\n",
    "with open(csv_output_path,'w') as output_file:\n",
    "    output_file.write(\"Financial Analysis \\n\")\n",
    "    output_file.write(\"-------------------------------------------\\n\")\n",
    "    output_file.write(f\"Total Months: {total_months}\\n\")\n",
    "    output_file.write(f\"Total: ${total_net}\\n\")\n",
    "    output_file.write(f\"Average Change: ${average_change:.2f}\\n\")\n",
    "    output_file.write(f\"Greatest Increase in Profits: {greatest_increase_date} (${greatest_increase_amount})\\n\")\n",
    "    output_file.write(f\"Greatest Decrease in Profits: {greatest_decrease_date} (${greatest_decrease_amount})\")\n",
    "                 \n",
    "\n",
    "# Financial Analysis\n",
    "# ----------------------------\n",
    "# Total Months: 86\n",
    "# Total: $22564198\n",
    "# Average Change: $-8311.11\n",
    "# Greatest Increase in Profits: Aug-16 ($1862002)\n",
    "# Greatest Decrease in Profits: Feb-14 ($-1825558)\n",
    "# In addition, your final script should both print the analysis to the terminal and export a text file with the results."
   ]
  },
  {
   "cell_type": "code",
   "execution_count": null,
   "id": "5f8396ba",
   "metadata": {},
   "outputs": [],
   "source": []
  },
  {
   "cell_type": "code",
   "execution_count": null,
   "id": "3925561c",
   "metadata": {},
   "outputs": [],
   "source": []
  }
 ],
 "metadata": {
  "kernelspec": {
   "display_name": "Python 3 (ipykernel)",
   "language": "python",
   "name": "python3"
  },
  "language_info": {
   "codemirror_mode": {
    "name": "ipython",
    "version": 3
   },
   "file_extension": ".py",
   "mimetype": "text/x-python",
   "name": "python",
   "nbconvert_exporter": "python",
   "pygments_lexer": "ipython3",
   "version": "3.11.4"
  }
 },
 "nbformat": 4,
 "nbformat_minor": 5
}
